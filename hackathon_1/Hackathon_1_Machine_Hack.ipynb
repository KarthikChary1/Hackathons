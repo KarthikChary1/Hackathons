{
  "nbformat": 4,
  "nbformat_minor": 0,
  "metadata": {
    "colab": {
      "name": "hackathon_bank_products.ipynb",
      "provenance": [],
      "collapsed_sections": []
    },
    "kernelspec": {
      "name": "python3",
      "display_name": "Python 3"
    },
    "language_info": {
      "name": "python"
    }
  },
  "cells": [
    {
      "cell_type": "code",
      "metadata": {
        "id": "q0VS0xgv5TmN"
      },
      "source": [
        "import pandas as pd"
      ],
      "execution_count": 1,
      "outputs": []
    },
    {
      "cell_type": "code",
      "metadata": {
        "id": "Hv_ZCCJ45uJZ"
      },
      "source": [
        "df=pd.read_csv(\"train.csv\")"
      ],
      "execution_count": 2,
      "outputs": []
    },
    {
      "cell_type": "markdown",
      "metadata": {
        "id": "7N7ww9q2aj_5"
      },
      "source": [
        "##**Train.csv**\n",
        "\n",
        "Customer_ID:Unique ID for the customer \n",
        "\n",
        "Gender:Gender of the Customer\n",
        "\n",
        "Age:Age of the Customer (in Years)\n",
        "\n",
        "Vintage:Vintage for the Customer (In Months)\n",
        "\n",
        "Is_Active:Activity Index, 0 :  Less frequent customer, 1 : More frequent customer\n",
        "\n",
        "City_Category:Encoded Category of customer's city\n",
        "\n",
        "Customer_Category:Encoded Category of the customer\n",
        "\n",
        "Product_Holding_B1:Current Product Holding (Encoded)\n",
        "\n",
        "Product_Holding_B2 :Product Holding in next six months (Encoded) - Target Column\n",
        "\n",
        " \n",
        "\n",
        "##**Test.csv**\n",
        "\n",
        "Customer_ID:Unique ID for the customer \n",
        "\n",
        "Gender:Gender of the Customer\n",
        "\n",
        "Age:Age of the Customer (in Years)\n",
        "\n",
        "Vintage:Vintage for the Customer (In Months)\n",
        "\n",
        "Is_Active:Activity Index, 0 :  Less frequent customer, 1 : More frequent customer\n",
        "\n",
        "City_Category:Encoded Category of customer's city\n",
        "\n",
        "Customer_Category:Encoded Category of the customer\n",
        "\n",
        "Product_Holding_B1:Current Product Holding (Encoded)"
      ]
    },
    {
      "cell_type": "code",
      "metadata": {
        "colab": {
          "base_uri": "https://localhost:8080/",
          "height": 205
        },
        "id": "Lw17uc3z5yIL",
        "outputId": "506b2ed6-3a3e-45be-b750-352ffed98856"
      },
      "source": [
        "df.head()"
      ],
      "execution_count": 3,
      "outputs": [
        {
          "output_type": "execute_result",
          "data": {
            "text/html": [
              "<div>\n",
              "<style scoped>\n",
              "    .dataframe tbody tr th:only-of-type {\n",
              "        vertical-align: middle;\n",
              "    }\n",
              "\n",
              "    .dataframe tbody tr th {\n",
              "        vertical-align: top;\n",
              "    }\n",
              "\n",
              "    .dataframe thead th {\n",
              "        text-align: right;\n",
              "    }\n",
              "</style>\n",
              "<table border=\"1\" class=\"dataframe\">\n",
              "  <thead>\n",
              "    <tr style=\"text-align: right;\">\n",
              "      <th></th>\n",
              "      <th>Customer_ID</th>\n",
              "      <th>Gender</th>\n",
              "      <th>Age</th>\n",
              "      <th>Vintage</th>\n",
              "      <th>Is_Active</th>\n",
              "      <th>City_Category</th>\n",
              "      <th>Customer_Category</th>\n",
              "      <th>Product_Holding_B1</th>\n",
              "      <th>Product_Holding_B2</th>\n",
              "    </tr>\n",
              "  </thead>\n",
              "  <tbody>\n",
              "    <tr>\n",
              "      <th>0</th>\n",
              "      <td>CC264719</td>\n",
              "      <td>Male</td>\n",
              "      <td>41</td>\n",
              "      <td>14</td>\n",
              "      <td>0</td>\n",
              "      <td>C1</td>\n",
              "      <td>S3</td>\n",
              "      <td>['P16']</td>\n",
              "      <td>['P8']</td>\n",
              "    </tr>\n",
              "    <tr>\n",
              "      <th>1</th>\n",
              "      <td>CC209679</td>\n",
              "      <td>Female</td>\n",
              "      <td>47</td>\n",
              "      <td>14</td>\n",
              "      <td>1</td>\n",
              "      <td>C1</td>\n",
              "      <td>S2</td>\n",
              "      <td>['P13', 'P20']</td>\n",
              "      <td>['P3']</td>\n",
              "    </tr>\n",
              "    <tr>\n",
              "      <th>2</th>\n",
              "      <td>CC319633</td>\n",
              "      <td>Female</td>\n",
              "      <td>59</td>\n",
              "      <td>14</td>\n",
              "      <td>0</td>\n",
              "      <td>C2</td>\n",
              "      <td>S2</td>\n",
              "      <td>['P11']</td>\n",
              "      <td>['P00']</td>\n",
              "    </tr>\n",
              "    <tr>\n",
              "      <th>3</th>\n",
              "      <td>CC231413</td>\n",
              "      <td>Female</td>\n",
              "      <td>32</td>\n",
              "      <td>16</td>\n",
              "      <td>0</td>\n",
              "      <td>C1</td>\n",
              "      <td>S2</td>\n",
              "      <td>['P8', 'P13']</td>\n",
              "      <td>['P6']</td>\n",
              "    </tr>\n",
              "    <tr>\n",
              "      <th>4</th>\n",
              "      <td>CC259633</td>\n",
              "      <td>Male</td>\n",
              "      <td>30</td>\n",
              "      <td>15</td>\n",
              "      <td>0</td>\n",
              "      <td>C2</td>\n",
              "      <td>S3</td>\n",
              "      <td>['P16', 'P17', 'P21']</td>\n",
              "      <td>['P8', 'P12']</td>\n",
              "    </tr>\n",
              "  </tbody>\n",
              "</table>\n",
              "</div>"
            ],
            "text/plain": [
              "  Customer_ID  Gender  ...     Product_Holding_B1  Product_Holding_B2\n",
              "0    CC264719    Male  ...                ['P16']              ['P8']\n",
              "1    CC209679  Female  ...         ['P13', 'P20']              ['P3']\n",
              "2    CC319633  Female  ...                ['P11']             ['P00']\n",
              "3    CC231413  Female  ...          ['P8', 'P13']              ['P6']\n",
              "4    CC259633    Male  ...  ['P16', 'P17', 'P21']       ['P8', 'P12']\n",
              "\n",
              "[5 rows x 9 columns]"
            ]
          },
          "metadata": {},
          "execution_count": 3
        }
      ]
    },
    {
      "cell_type": "markdown",
      "metadata": {
        "id": "UzLSDLdABLnf"
      },
      "source": [
        "Target variable conversion\n"
      ]
    },
    {
      "cell_type": "code",
      "metadata": {
        "id": "s0pO5G1Eq_3_"
      },
      "source": [
        "def upper(x):\n",
        "  column=[]\n",
        "  for i in x:\n",
        "    column.append(i.upper())\n",
        "  return column"
      ],
      "execution_count": 4,
      "outputs": []
    },
    {
      "cell_type": "code",
      "metadata": {
        "id": "Iirh0DPc5zXY"
      },
      "source": [
        "from sklearn.feature_extraction.text import CountVectorizer\n",
        "vector=CountVectorizer()\n",
        "x=vector.fit_transform(df.Product_Holding_B2.str.join(''))\n",
        "target=pd.DataFrame(x.toarray(),columns=upper(vector.get_feature_names()))"
      ],
      "execution_count": 5,
      "outputs": []
    },
    {
      "cell_type": "code",
      "metadata": {
        "colab": {
          "base_uri": "https://localhost:8080/",
          "height": 205
        },
        "id": "e1fNuYHQsFH_",
        "outputId": "a215fae2-f978-4c96-d749-a60b60248b6f"
      },
      "source": [
        "target.head()"
      ],
      "execution_count": 6,
      "outputs": [
        {
          "output_type": "execute_result",
          "data": {
            "text/html": [
              "<div>\n",
              "<style scoped>\n",
              "    .dataframe tbody tr th:only-of-type {\n",
              "        vertical-align: middle;\n",
              "    }\n",
              "\n",
              "    .dataframe tbody tr th {\n",
              "        vertical-align: top;\n",
              "    }\n",
              "\n",
              "    .dataframe thead th {\n",
              "        text-align: right;\n",
              "    }\n",
              "</style>\n",
              "<table border=\"1\" class=\"dataframe\">\n",
              "  <thead>\n",
              "    <tr style=\"text-align: right;\">\n",
              "      <th></th>\n",
              "      <th>P00</th>\n",
              "      <th>P1</th>\n",
              "      <th>P10</th>\n",
              "      <th>P11</th>\n",
              "      <th>P12</th>\n",
              "      <th>P13</th>\n",
              "      <th>P14</th>\n",
              "      <th>P15</th>\n",
              "      <th>P16</th>\n",
              "      <th>P17</th>\n",
              "      <th>P18</th>\n",
              "      <th>P2</th>\n",
              "      <th>P20</th>\n",
              "      <th>P3</th>\n",
              "      <th>P4</th>\n",
              "      <th>P5</th>\n",
              "      <th>P6</th>\n",
              "      <th>P7</th>\n",
              "      <th>P8</th>\n",
              "      <th>P9</th>\n",
              "    </tr>\n",
              "  </thead>\n",
              "  <tbody>\n",
              "    <tr>\n",
              "      <th>0</th>\n",
              "      <td>0</td>\n",
              "      <td>0</td>\n",
              "      <td>0</td>\n",
              "      <td>0</td>\n",
              "      <td>0</td>\n",
              "      <td>0</td>\n",
              "      <td>0</td>\n",
              "      <td>0</td>\n",
              "      <td>0</td>\n",
              "      <td>0</td>\n",
              "      <td>0</td>\n",
              "      <td>0</td>\n",
              "      <td>0</td>\n",
              "      <td>0</td>\n",
              "      <td>0</td>\n",
              "      <td>0</td>\n",
              "      <td>0</td>\n",
              "      <td>0</td>\n",
              "      <td>1</td>\n",
              "      <td>0</td>\n",
              "    </tr>\n",
              "    <tr>\n",
              "      <th>1</th>\n",
              "      <td>0</td>\n",
              "      <td>0</td>\n",
              "      <td>0</td>\n",
              "      <td>0</td>\n",
              "      <td>0</td>\n",
              "      <td>0</td>\n",
              "      <td>0</td>\n",
              "      <td>0</td>\n",
              "      <td>0</td>\n",
              "      <td>0</td>\n",
              "      <td>0</td>\n",
              "      <td>0</td>\n",
              "      <td>0</td>\n",
              "      <td>1</td>\n",
              "      <td>0</td>\n",
              "      <td>0</td>\n",
              "      <td>0</td>\n",
              "      <td>0</td>\n",
              "      <td>0</td>\n",
              "      <td>0</td>\n",
              "    </tr>\n",
              "    <tr>\n",
              "      <th>2</th>\n",
              "      <td>1</td>\n",
              "      <td>0</td>\n",
              "      <td>0</td>\n",
              "      <td>0</td>\n",
              "      <td>0</td>\n",
              "      <td>0</td>\n",
              "      <td>0</td>\n",
              "      <td>0</td>\n",
              "      <td>0</td>\n",
              "      <td>0</td>\n",
              "      <td>0</td>\n",
              "      <td>0</td>\n",
              "      <td>0</td>\n",
              "      <td>0</td>\n",
              "      <td>0</td>\n",
              "      <td>0</td>\n",
              "      <td>0</td>\n",
              "      <td>0</td>\n",
              "      <td>0</td>\n",
              "      <td>0</td>\n",
              "    </tr>\n",
              "    <tr>\n",
              "      <th>3</th>\n",
              "      <td>0</td>\n",
              "      <td>0</td>\n",
              "      <td>0</td>\n",
              "      <td>0</td>\n",
              "      <td>0</td>\n",
              "      <td>0</td>\n",
              "      <td>0</td>\n",
              "      <td>0</td>\n",
              "      <td>0</td>\n",
              "      <td>0</td>\n",
              "      <td>0</td>\n",
              "      <td>0</td>\n",
              "      <td>0</td>\n",
              "      <td>0</td>\n",
              "      <td>0</td>\n",
              "      <td>0</td>\n",
              "      <td>1</td>\n",
              "      <td>0</td>\n",
              "      <td>0</td>\n",
              "      <td>0</td>\n",
              "    </tr>\n",
              "    <tr>\n",
              "      <th>4</th>\n",
              "      <td>0</td>\n",
              "      <td>0</td>\n",
              "      <td>0</td>\n",
              "      <td>0</td>\n",
              "      <td>1</td>\n",
              "      <td>0</td>\n",
              "      <td>0</td>\n",
              "      <td>0</td>\n",
              "      <td>0</td>\n",
              "      <td>0</td>\n",
              "      <td>0</td>\n",
              "      <td>0</td>\n",
              "      <td>0</td>\n",
              "      <td>0</td>\n",
              "      <td>0</td>\n",
              "      <td>0</td>\n",
              "      <td>0</td>\n",
              "      <td>0</td>\n",
              "      <td>1</td>\n",
              "      <td>0</td>\n",
              "    </tr>\n",
              "  </tbody>\n",
              "</table>\n",
              "</div>"
            ],
            "text/plain": [
              "   P00  P1  P10  P11  P12  P13  P14  P15  ...  P20  P3  P4  P5  P6  P7  P8  P9\n",
              "0    0   0    0    0    0    0    0    0  ...    0   0   0   0   0   0   1   0\n",
              "1    0   0    0    0    0    0    0    0  ...    0   1   0   0   0   0   0   0\n",
              "2    1   0    0    0    0    0    0    0  ...    0   0   0   0   0   0   0   0\n",
              "3    0   0    0    0    0    0    0    0  ...    0   0   0   0   1   0   0   0\n",
              "4    0   0    0    0    1    0    0    0  ...    0   0   0   0   0   0   1   0\n",
              "\n",
              "[5 rows x 20 columns]"
            ]
          },
          "metadata": {},
          "execution_count": 6
        }
      ]
    },
    {
      "cell_type": "code",
      "metadata": {
        "id": "Q3eNuSwYrhv9"
      },
      "source": [
        ""
      ],
      "execution_count": 6,
      "outputs": []
    },
    {
      "cell_type": "code",
      "metadata": {
        "colab": {
          "base_uri": "https://localhost:8080/",
          "height": 205
        },
        "id": "zc6MrxiK7GBk",
        "outputId": "a4e13344-2cac-496b-bbcd-a09b0eb7e254"
      },
      "source": [
        "target.head()"
      ],
      "execution_count": 7,
      "outputs": [
        {
          "output_type": "execute_result",
          "data": {
            "text/html": [
              "<div>\n",
              "<style scoped>\n",
              "    .dataframe tbody tr th:only-of-type {\n",
              "        vertical-align: middle;\n",
              "    }\n",
              "\n",
              "    .dataframe tbody tr th {\n",
              "        vertical-align: top;\n",
              "    }\n",
              "\n",
              "    .dataframe thead th {\n",
              "        text-align: right;\n",
              "    }\n",
              "</style>\n",
              "<table border=\"1\" class=\"dataframe\">\n",
              "  <thead>\n",
              "    <tr style=\"text-align: right;\">\n",
              "      <th></th>\n",
              "      <th>P00</th>\n",
              "      <th>P1</th>\n",
              "      <th>P10</th>\n",
              "      <th>P11</th>\n",
              "      <th>P12</th>\n",
              "      <th>P13</th>\n",
              "      <th>P14</th>\n",
              "      <th>P15</th>\n",
              "      <th>P16</th>\n",
              "      <th>P17</th>\n",
              "      <th>P18</th>\n",
              "      <th>P2</th>\n",
              "      <th>P20</th>\n",
              "      <th>P3</th>\n",
              "      <th>P4</th>\n",
              "      <th>P5</th>\n",
              "      <th>P6</th>\n",
              "      <th>P7</th>\n",
              "      <th>P8</th>\n",
              "      <th>P9</th>\n",
              "    </tr>\n",
              "  </thead>\n",
              "  <tbody>\n",
              "    <tr>\n",
              "      <th>0</th>\n",
              "      <td>0</td>\n",
              "      <td>0</td>\n",
              "      <td>0</td>\n",
              "      <td>0</td>\n",
              "      <td>0</td>\n",
              "      <td>0</td>\n",
              "      <td>0</td>\n",
              "      <td>0</td>\n",
              "      <td>0</td>\n",
              "      <td>0</td>\n",
              "      <td>0</td>\n",
              "      <td>0</td>\n",
              "      <td>0</td>\n",
              "      <td>0</td>\n",
              "      <td>0</td>\n",
              "      <td>0</td>\n",
              "      <td>0</td>\n",
              "      <td>0</td>\n",
              "      <td>1</td>\n",
              "      <td>0</td>\n",
              "    </tr>\n",
              "    <tr>\n",
              "      <th>1</th>\n",
              "      <td>0</td>\n",
              "      <td>0</td>\n",
              "      <td>0</td>\n",
              "      <td>0</td>\n",
              "      <td>0</td>\n",
              "      <td>0</td>\n",
              "      <td>0</td>\n",
              "      <td>0</td>\n",
              "      <td>0</td>\n",
              "      <td>0</td>\n",
              "      <td>0</td>\n",
              "      <td>0</td>\n",
              "      <td>0</td>\n",
              "      <td>1</td>\n",
              "      <td>0</td>\n",
              "      <td>0</td>\n",
              "      <td>0</td>\n",
              "      <td>0</td>\n",
              "      <td>0</td>\n",
              "      <td>0</td>\n",
              "    </tr>\n",
              "    <tr>\n",
              "      <th>2</th>\n",
              "      <td>1</td>\n",
              "      <td>0</td>\n",
              "      <td>0</td>\n",
              "      <td>0</td>\n",
              "      <td>0</td>\n",
              "      <td>0</td>\n",
              "      <td>0</td>\n",
              "      <td>0</td>\n",
              "      <td>0</td>\n",
              "      <td>0</td>\n",
              "      <td>0</td>\n",
              "      <td>0</td>\n",
              "      <td>0</td>\n",
              "      <td>0</td>\n",
              "      <td>0</td>\n",
              "      <td>0</td>\n",
              "      <td>0</td>\n",
              "      <td>0</td>\n",
              "      <td>0</td>\n",
              "      <td>0</td>\n",
              "    </tr>\n",
              "    <tr>\n",
              "      <th>3</th>\n",
              "      <td>0</td>\n",
              "      <td>0</td>\n",
              "      <td>0</td>\n",
              "      <td>0</td>\n",
              "      <td>0</td>\n",
              "      <td>0</td>\n",
              "      <td>0</td>\n",
              "      <td>0</td>\n",
              "      <td>0</td>\n",
              "      <td>0</td>\n",
              "      <td>0</td>\n",
              "      <td>0</td>\n",
              "      <td>0</td>\n",
              "      <td>0</td>\n",
              "      <td>0</td>\n",
              "      <td>0</td>\n",
              "      <td>1</td>\n",
              "      <td>0</td>\n",
              "      <td>0</td>\n",
              "      <td>0</td>\n",
              "    </tr>\n",
              "    <tr>\n",
              "      <th>4</th>\n",
              "      <td>0</td>\n",
              "      <td>0</td>\n",
              "      <td>0</td>\n",
              "      <td>0</td>\n",
              "      <td>1</td>\n",
              "      <td>0</td>\n",
              "      <td>0</td>\n",
              "      <td>0</td>\n",
              "      <td>0</td>\n",
              "      <td>0</td>\n",
              "      <td>0</td>\n",
              "      <td>0</td>\n",
              "      <td>0</td>\n",
              "      <td>0</td>\n",
              "      <td>0</td>\n",
              "      <td>0</td>\n",
              "      <td>0</td>\n",
              "      <td>0</td>\n",
              "      <td>1</td>\n",
              "      <td>0</td>\n",
              "    </tr>\n",
              "  </tbody>\n",
              "</table>\n",
              "</div>"
            ],
            "text/plain": [
              "   P00  P1  P10  P11  P12  P13  P14  P15  ...  P20  P3  P4  P5  P6  P7  P8  P9\n",
              "0    0   0    0    0    0    0    0    0  ...    0   0   0   0   0   0   1   0\n",
              "1    0   0    0    0    0    0    0    0  ...    0   1   0   0   0   0   0   0\n",
              "2    1   0    0    0    0    0    0    0  ...    0   0   0   0   0   0   0   0\n",
              "3    0   0    0    0    0    0    0    0  ...    0   0   0   0   1   0   0   0\n",
              "4    0   0    0    0    1    0    0    0  ...    0   0   0   0   0   0   1   0\n",
              "\n",
              "[5 rows x 20 columns]"
            ]
          },
          "metadata": {},
          "execution_count": 7
        }
      ]
    },
    {
      "cell_type": "code",
      "metadata": {
        "id": "pRAcz_UMCfY5"
      },
      "source": [
        "vector2=CountVectorizer()\n",
        "x=vector2.fit_transform(df.Product_Holding_B1.str.join(''))\n",
        "data=df.join(pd.DataFrame(x.toarray(), columns=upper(vector2.get_feature_names())))"
      ],
      "execution_count": 8,
      "outputs": []
    },
    {
      "cell_type": "code",
      "metadata": {
        "colab": {
          "base_uri": "https://localhost:8080/",
          "height": 225
        },
        "id": "8Ja1wJjgD4zb",
        "outputId": "1265f491-fe4a-4e2b-b91f-77862796515b"
      },
      "source": [
        "data.head()"
      ],
      "execution_count": 9,
      "outputs": [
        {
          "output_type": "execute_result",
          "data": {
            "text/html": [
              "<div>\n",
              "<style scoped>\n",
              "    .dataframe tbody tr th:only-of-type {\n",
              "        vertical-align: middle;\n",
              "    }\n",
              "\n",
              "    .dataframe tbody tr th {\n",
              "        vertical-align: top;\n",
              "    }\n",
              "\n",
              "    .dataframe thead th {\n",
              "        text-align: right;\n",
              "    }\n",
              "</style>\n",
              "<table border=\"1\" class=\"dataframe\">\n",
              "  <thead>\n",
              "    <tr style=\"text-align: right;\">\n",
              "      <th></th>\n",
              "      <th>Customer_ID</th>\n",
              "      <th>Gender</th>\n",
              "      <th>Age</th>\n",
              "      <th>Vintage</th>\n",
              "      <th>Is_Active</th>\n",
              "      <th>City_Category</th>\n",
              "      <th>Customer_Category</th>\n",
              "      <th>Product_Holding_B1</th>\n",
              "      <th>Product_Holding_B2</th>\n",
              "      <th>P00</th>\n",
              "      <th>P1</th>\n",
              "      <th>P10</th>\n",
              "      <th>P11</th>\n",
              "      <th>P12</th>\n",
              "      <th>P13</th>\n",
              "      <th>P14</th>\n",
              "      <th>P15</th>\n",
              "      <th>P16</th>\n",
              "      <th>P17</th>\n",
              "      <th>P18</th>\n",
              "      <th>P19</th>\n",
              "      <th>P2</th>\n",
              "      <th>P20</th>\n",
              "      <th>P21</th>\n",
              "      <th>P3</th>\n",
              "      <th>P4</th>\n",
              "      <th>P5</th>\n",
              "      <th>P6</th>\n",
              "      <th>P7</th>\n",
              "      <th>P8</th>\n",
              "      <th>P9</th>\n",
              "    </tr>\n",
              "  </thead>\n",
              "  <tbody>\n",
              "    <tr>\n",
              "      <th>0</th>\n",
              "      <td>CC264719</td>\n",
              "      <td>Male</td>\n",
              "      <td>41</td>\n",
              "      <td>14</td>\n",
              "      <td>0</td>\n",
              "      <td>C1</td>\n",
              "      <td>S3</td>\n",
              "      <td>['P16']</td>\n",
              "      <td>['P8']</td>\n",
              "      <td>0</td>\n",
              "      <td>0</td>\n",
              "      <td>0</td>\n",
              "      <td>0</td>\n",
              "      <td>0</td>\n",
              "      <td>0</td>\n",
              "      <td>0</td>\n",
              "      <td>0</td>\n",
              "      <td>1</td>\n",
              "      <td>0</td>\n",
              "      <td>0</td>\n",
              "      <td>0</td>\n",
              "      <td>0</td>\n",
              "      <td>0</td>\n",
              "      <td>0</td>\n",
              "      <td>0</td>\n",
              "      <td>0</td>\n",
              "      <td>0</td>\n",
              "      <td>0</td>\n",
              "      <td>0</td>\n",
              "      <td>0</td>\n",
              "      <td>0</td>\n",
              "    </tr>\n",
              "    <tr>\n",
              "      <th>1</th>\n",
              "      <td>CC209679</td>\n",
              "      <td>Female</td>\n",
              "      <td>47</td>\n",
              "      <td>14</td>\n",
              "      <td>1</td>\n",
              "      <td>C1</td>\n",
              "      <td>S2</td>\n",
              "      <td>['P13', 'P20']</td>\n",
              "      <td>['P3']</td>\n",
              "      <td>0</td>\n",
              "      <td>0</td>\n",
              "      <td>0</td>\n",
              "      <td>0</td>\n",
              "      <td>0</td>\n",
              "      <td>1</td>\n",
              "      <td>0</td>\n",
              "      <td>0</td>\n",
              "      <td>0</td>\n",
              "      <td>0</td>\n",
              "      <td>0</td>\n",
              "      <td>0</td>\n",
              "      <td>0</td>\n",
              "      <td>1</td>\n",
              "      <td>0</td>\n",
              "      <td>0</td>\n",
              "      <td>0</td>\n",
              "      <td>0</td>\n",
              "      <td>0</td>\n",
              "      <td>0</td>\n",
              "      <td>0</td>\n",
              "      <td>0</td>\n",
              "    </tr>\n",
              "    <tr>\n",
              "      <th>2</th>\n",
              "      <td>CC319633</td>\n",
              "      <td>Female</td>\n",
              "      <td>59</td>\n",
              "      <td>14</td>\n",
              "      <td>0</td>\n",
              "      <td>C2</td>\n",
              "      <td>S2</td>\n",
              "      <td>['P11']</td>\n",
              "      <td>['P00']</td>\n",
              "      <td>0</td>\n",
              "      <td>0</td>\n",
              "      <td>0</td>\n",
              "      <td>1</td>\n",
              "      <td>0</td>\n",
              "      <td>0</td>\n",
              "      <td>0</td>\n",
              "      <td>0</td>\n",
              "      <td>0</td>\n",
              "      <td>0</td>\n",
              "      <td>0</td>\n",
              "      <td>0</td>\n",
              "      <td>0</td>\n",
              "      <td>0</td>\n",
              "      <td>0</td>\n",
              "      <td>0</td>\n",
              "      <td>0</td>\n",
              "      <td>0</td>\n",
              "      <td>0</td>\n",
              "      <td>0</td>\n",
              "      <td>0</td>\n",
              "      <td>0</td>\n",
              "    </tr>\n",
              "    <tr>\n",
              "      <th>3</th>\n",
              "      <td>CC231413</td>\n",
              "      <td>Female</td>\n",
              "      <td>32</td>\n",
              "      <td>16</td>\n",
              "      <td>0</td>\n",
              "      <td>C1</td>\n",
              "      <td>S2</td>\n",
              "      <td>['P8', 'P13']</td>\n",
              "      <td>['P6']</td>\n",
              "      <td>0</td>\n",
              "      <td>0</td>\n",
              "      <td>0</td>\n",
              "      <td>0</td>\n",
              "      <td>0</td>\n",
              "      <td>1</td>\n",
              "      <td>0</td>\n",
              "      <td>0</td>\n",
              "      <td>0</td>\n",
              "      <td>0</td>\n",
              "      <td>0</td>\n",
              "      <td>0</td>\n",
              "      <td>0</td>\n",
              "      <td>0</td>\n",
              "      <td>0</td>\n",
              "      <td>0</td>\n",
              "      <td>0</td>\n",
              "      <td>0</td>\n",
              "      <td>0</td>\n",
              "      <td>0</td>\n",
              "      <td>1</td>\n",
              "      <td>0</td>\n",
              "    </tr>\n",
              "    <tr>\n",
              "      <th>4</th>\n",
              "      <td>CC259633</td>\n",
              "      <td>Male</td>\n",
              "      <td>30</td>\n",
              "      <td>15</td>\n",
              "      <td>0</td>\n",
              "      <td>C2</td>\n",
              "      <td>S3</td>\n",
              "      <td>['P16', 'P17', 'P21']</td>\n",
              "      <td>['P8', 'P12']</td>\n",
              "      <td>0</td>\n",
              "      <td>0</td>\n",
              "      <td>0</td>\n",
              "      <td>0</td>\n",
              "      <td>0</td>\n",
              "      <td>0</td>\n",
              "      <td>0</td>\n",
              "      <td>0</td>\n",
              "      <td>1</td>\n",
              "      <td>1</td>\n",
              "      <td>0</td>\n",
              "      <td>0</td>\n",
              "      <td>0</td>\n",
              "      <td>0</td>\n",
              "      <td>1</td>\n",
              "      <td>0</td>\n",
              "      <td>0</td>\n",
              "      <td>0</td>\n",
              "      <td>0</td>\n",
              "      <td>0</td>\n",
              "      <td>0</td>\n",
              "      <td>0</td>\n",
              "    </tr>\n",
              "  </tbody>\n",
              "</table>\n",
              "</div>"
            ],
            "text/plain": [
              "  Customer_ID  Gender  Age  Vintage  Is_Active  ... P5 P6 P7 P8  P9\n",
              "0    CC264719    Male   41       14          0  ...  0  0  0  0   0\n",
              "1    CC209679  Female   47       14          1  ...  0  0  0  0   0\n",
              "2    CC319633  Female   59       14          0  ...  0  0  0  0   0\n",
              "3    CC231413  Female   32       16          0  ...  0  0  0  1   0\n",
              "4    CC259633    Male   30       15          0  ...  0  0  0  0   0\n",
              "\n",
              "[5 rows x 31 columns]"
            ]
          },
          "metadata": {},
          "execution_count": 9
        }
      ]
    },
    {
      "cell_type": "code",
      "metadata": {
        "colab": {
          "base_uri": "https://localhost:8080/"
        },
        "id": "kH28IQpvD6YT",
        "outputId": "e628caa4-a109-4207-c681-5a8cc0615852"
      },
      "source": [
        "data.isna().sum()"
      ],
      "execution_count": 10,
      "outputs": [
        {
          "output_type": "execute_result",
          "data": {
            "text/plain": [
              "Customer_ID           0\n",
              "Gender                0\n",
              "Age                   0\n",
              "Vintage               0\n",
              "Is_Active             0\n",
              "City_Category         0\n",
              "Customer_Category     0\n",
              "Product_Holding_B1    0\n",
              "Product_Holding_B2    0\n",
              "P00                   0\n",
              "P1                    0\n",
              "P10                   0\n",
              "P11                   0\n",
              "P12                   0\n",
              "P13                   0\n",
              "P14                   0\n",
              "P15                   0\n",
              "P16                   0\n",
              "P17                   0\n",
              "P18                   0\n",
              "P19                   0\n",
              "P2                    0\n",
              "P20                   0\n",
              "P21                   0\n",
              "P3                    0\n",
              "P4                    0\n",
              "P5                    0\n",
              "P6                    0\n",
              "P7                    0\n",
              "P8                    0\n",
              "P9                    0\n",
              "dtype: int64"
            ]
          },
          "metadata": {},
          "execution_count": 10
        }
      ]
    },
    {
      "cell_type": "code",
      "metadata": {
        "id": "J9oE0g-UFO0q"
      },
      "source": [
        "#dropping unwanted columns and Target variable \n",
        "unwanted_columns = [\"Customer_ID\",\"Product_Holding_B1\",\"Product_Holding_B2\"]\n",
        "data.drop(unwanted_columns,axis=1,inplace=True)"
      ],
      "execution_count": 11,
      "outputs": []
    },
    {
      "cell_type": "code",
      "metadata": {
        "colab": {
          "base_uri": "https://localhost:8080/"
        },
        "id": "zQ9_LdcMFusG",
        "outputId": "18d4ab31-6aa7-4922-c0ee-3e2ad27c65c1"
      },
      "source": [
        "data.info()"
      ],
      "execution_count": 12,
      "outputs": [
        {
          "output_type": "stream",
          "name": "stdout",
          "text": [
            "<class 'pandas.core.frame.DataFrame'>\n",
            "RangeIndex: 37748 entries, 0 to 37747\n",
            "Data columns (total 28 columns):\n",
            " #   Column             Non-Null Count  Dtype \n",
            "---  ------             --------------  ----- \n",
            " 0   Gender             37748 non-null  object\n",
            " 1   Age                37748 non-null  int64 \n",
            " 2   Vintage            37748 non-null  int64 \n",
            " 3   Is_Active          37748 non-null  int64 \n",
            " 4   City_Category      37748 non-null  object\n",
            " 5   Customer_Category  37748 non-null  object\n",
            " 6   P00                37748 non-null  int64 \n",
            " 7   P1                 37748 non-null  int64 \n",
            " 8   P10                37748 non-null  int64 \n",
            " 9   P11                37748 non-null  int64 \n",
            " 10  P12                37748 non-null  int64 \n",
            " 11  P13                37748 non-null  int64 \n",
            " 12  P14                37748 non-null  int64 \n",
            " 13  P15                37748 non-null  int64 \n",
            " 14  P16                37748 non-null  int64 \n",
            " 15  P17                37748 non-null  int64 \n",
            " 16  P18                37748 non-null  int64 \n",
            " 17  P19                37748 non-null  int64 \n",
            " 18  P2                 37748 non-null  int64 \n",
            " 19  P20                37748 non-null  int64 \n",
            " 20  P21                37748 non-null  int64 \n",
            " 21  P3                 37748 non-null  int64 \n",
            " 22  P4                 37748 non-null  int64 \n",
            " 23  P5                 37748 non-null  int64 \n",
            " 24  P6                 37748 non-null  int64 \n",
            " 25  P7                 37748 non-null  int64 \n",
            " 26  P8                 37748 non-null  int64 \n",
            " 27  P9                 37748 non-null  int64 \n",
            "dtypes: int64(25), object(3)\n",
            "memory usage: 8.1+ MB\n"
          ]
        }
      ]
    },
    {
      "cell_type": "code",
      "metadata": {
        "id": "B3_ZVVc4FxFU"
      },
      "source": [
        "final_data=pd.get_dummies(data,drop_first=True)"
      ],
      "execution_count": 13,
      "outputs": []
    },
    {
      "cell_type": "code",
      "metadata": {
        "colab": {
          "base_uri": "https://localhost:8080/",
          "height": 225
        },
        "id": "mjdRYOESHCX6",
        "outputId": "aaa9385e-415c-4e11-c1f5-d07235048365"
      },
      "source": [
        "final_data.head()"
      ],
      "execution_count": 14,
      "outputs": [
        {
          "output_type": "execute_result",
          "data": {
            "text/html": [
              "<div>\n",
              "<style scoped>\n",
              "    .dataframe tbody tr th:only-of-type {\n",
              "        vertical-align: middle;\n",
              "    }\n",
              "\n",
              "    .dataframe tbody tr th {\n",
              "        vertical-align: top;\n",
              "    }\n",
              "\n",
              "    .dataframe thead th {\n",
              "        text-align: right;\n",
              "    }\n",
              "</style>\n",
              "<table border=\"1\" class=\"dataframe\">\n",
              "  <thead>\n",
              "    <tr style=\"text-align: right;\">\n",
              "      <th></th>\n",
              "      <th>Age</th>\n",
              "      <th>Vintage</th>\n",
              "      <th>Is_Active</th>\n",
              "      <th>P00</th>\n",
              "      <th>P1</th>\n",
              "      <th>P10</th>\n",
              "      <th>P11</th>\n",
              "      <th>P12</th>\n",
              "      <th>P13</th>\n",
              "      <th>P14</th>\n",
              "      <th>P15</th>\n",
              "      <th>P16</th>\n",
              "      <th>P17</th>\n",
              "      <th>P18</th>\n",
              "      <th>P19</th>\n",
              "      <th>P2</th>\n",
              "      <th>P20</th>\n",
              "      <th>P21</th>\n",
              "      <th>P3</th>\n",
              "      <th>P4</th>\n",
              "      <th>P5</th>\n",
              "      <th>P6</th>\n",
              "      <th>P7</th>\n",
              "      <th>P8</th>\n",
              "      <th>P9</th>\n",
              "      <th>Gender_Male</th>\n",
              "      <th>City_Category_C2</th>\n",
              "      <th>Customer_Category_S2</th>\n",
              "      <th>Customer_Category_S3</th>\n",
              "    </tr>\n",
              "  </thead>\n",
              "  <tbody>\n",
              "    <tr>\n",
              "      <th>0</th>\n",
              "      <td>41</td>\n",
              "      <td>14</td>\n",
              "      <td>0</td>\n",
              "      <td>0</td>\n",
              "      <td>0</td>\n",
              "      <td>0</td>\n",
              "      <td>0</td>\n",
              "      <td>0</td>\n",
              "      <td>0</td>\n",
              "      <td>0</td>\n",
              "      <td>0</td>\n",
              "      <td>1</td>\n",
              "      <td>0</td>\n",
              "      <td>0</td>\n",
              "      <td>0</td>\n",
              "      <td>0</td>\n",
              "      <td>0</td>\n",
              "      <td>0</td>\n",
              "      <td>0</td>\n",
              "      <td>0</td>\n",
              "      <td>0</td>\n",
              "      <td>0</td>\n",
              "      <td>0</td>\n",
              "      <td>0</td>\n",
              "      <td>0</td>\n",
              "      <td>1</td>\n",
              "      <td>0</td>\n",
              "      <td>0</td>\n",
              "      <td>1</td>\n",
              "    </tr>\n",
              "    <tr>\n",
              "      <th>1</th>\n",
              "      <td>47</td>\n",
              "      <td>14</td>\n",
              "      <td>1</td>\n",
              "      <td>0</td>\n",
              "      <td>0</td>\n",
              "      <td>0</td>\n",
              "      <td>0</td>\n",
              "      <td>0</td>\n",
              "      <td>1</td>\n",
              "      <td>0</td>\n",
              "      <td>0</td>\n",
              "      <td>0</td>\n",
              "      <td>0</td>\n",
              "      <td>0</td>\n",
              "      <td>0</td>\n",
              "      <td>0</td>\n",
              "      <td>1</td>\n",
              "      <td>0</td>\n",
              "      <td>0</td>\n",
              "      <td>0</td>\n",
              "      <td>0</td>\n",
              "      <td>0</td>\n",
              "      <td>0</td>\n",
              "      <td>0</td>\n",
              "      <td>0</td>\n",
              "      <td>0</td>\n",
              "      <td>0</td>\n",
              "      <td>1</td>\n",
              "      <td>0</td>\n",
              "    </tr>\n",
              "    <tr>\n",
              "      <th>2</th>\n",
              "      <td>59</td>\n",
              "      <td>14</td>\n",
              "      <td>0</td>\n",
              "      <td>0</td>\n",
              "      <td>0</td>\n",
              "      <td>0</td>\n",
              "      <td>1</td>\n",
              "      <td>0</td>\n",
              "      <td>0</td>\n",
              "      <td>0</td>\n",
              "      <td>0</td>\n",
              "      <td>0</td>\n",
              "      <td>0</td>\n",
              "      <td>0</td>\n",
              "      <td>0</td>\n",
              "      <td>0</td>\n",
              "      <td>0</td>\n",
              "      <td>0</td>\n",
              "      <td>0</td>\n",
              "      <td>0</td>\n",
              "      <td>0</td>\n",
              "      <td>0</td>\n",
              "      <td>0</td>\n",
              "      <td>0</td>\n",
              "      <td>0</td>\n",
              "      <td>0</td>\n",
              "      <td>1</td>\n",
              "      <td>1</td>\n",
              "      <td>0</td>\n",
              "    </tr>\n",
              "    <tr>\n",
              "      <th>3</th>\n",
              "      <td>32</td>\n",
              "      <td>16</td>\n",
              "      <td>0</td>\n",
              "      <td>0</td>\n",
              "      <td>0</td>\n",
              "      <td>0</td>\n",
              "      <td>0</td>\n",
              "      <td>0</td>\n",
              "      <td>1</td>\n",
              "      <td>0</td>\n",
              "      <td>0</td>\n",
              "      <td>0</td>\n",
              "      <td>0</td>\n",
              "      <td>0</td>\n",
              "      <td>0</td>\n",
              "      <td>0</td>\n",
              "      <td>0</td>\n",
              "      <td>0</td>\n",
              "      <td>0</td>\n",
              "      <td>0</td>\n",
              "      <td>0</td>\n",
              "      <td>0</td>\n",
              "      <td>0</td>\n",
              "      <td>1</td>\n",
              "      <td>0</td>\n",
              "      <td>0</td>\n",
              "      <td>0</td>\n",
              "      <td>1</td>\n",
              "      <td>0</td>\n",
              "    </tr>\n",
              "    <tr>\n",
              "      <th>4</th>\n",
              "      <td>30</td>\n",
              "      <td>15</td>\n",
              "      <td>0</td>\n",
              "      <td>0</td>\n",
              "      <td>0</td>\n",
              "      <td>0</td>\n",
              "      <td>0</td>\n",
              "      <td>0</td>\n",
              "      <td>0</td>\n",
              "      <td>0</td>\n",
              "      <td>0</td>\n",
              "      <td>1</td>\n",
              "      <td>1</td>\n",
              "      <td>0</td>\n",
              "      <td>0</td>\n",
              "      <td>0</td>\n",
              "      <td>0</td>\n",
              "      <td>1</td>\n",
              "      <td>0</td>\n",
              "      <td>0</td>\n",
              "      <td>0</td>\n",
              "      <td>0</td>\n",
              "      <td>0</td>\n",
              "      <td>0</td>\n",
              "      <td>0</td>\n",
              "      <td>1</td>\n",
              "      <td>1</td>\n",
              "      <td>0</td>\n",
              "      <td>1</td>\n",
              "    </tr>\n",
              "  </tbody>\n",
              "</table>\n",
              "</div>"
            ],
            "text/plain": [
              "   Age  Vintage  ...  Customer_Category_S2  Customer_Category_S3\n",
              "0   41       14  ...                     0                     1\n",
              "1   47       14  ...                     1                     0\n",
              "2   59       14  ...                     1                     0\n",
              "3   32       16  ...                     1                     0\n",
              "4   30       15  ...                     0                     1\n",
              "\n",
              "[5 rows x 29 columns]"
            ]
          },
          "metadata": {},
          "execution_count": 14
        }
      ]
    },
    {
      "cell_type": "code",
      "metadata": {
        "id": "XfM4aVkqHftu"
      },
      "source": [
        "from sklearn.model_selection import train_test_split\n",
        "from sklearn.multiclass import OneVsRestClassifier\n",
        "from xgboost import XGBClassifier\n",
        "from sklearn.metrics import accuracy_score"
      ],
      "execution_count": 15,
      "outputs": []
    },
    {
      "cell_type": "code",
      "metadata": {
        "id": "WSUbt-ftIt2n"
      },
      "source": [
        "X_train, X_test, y_train, y_test = train_test_split(final_data,target, test_size=0.33, random_state=42)"
      ],
      "execution_count": 16,
      "outputs": []
    },
    {
      "cell_type": "code",
      "metadata": {
        "colab": {
          "base_uri": "https://localhost:8080/"
        },
        "id": "uw-qZhWPOGDq",
        "outputId": "afac276d-4fa0-465c-9adc-87802c47a758"
      },
      "source": [
        "from sklearn.ensemble import RandomForestClassifier\n",
        "rfc=OneVsRestClassifier(RandomForestClassifier(criterion=\"gini\",n_estimators=700,))\n",
        "rfc.fit(final_data,target)\n",
        "rfc.score(X_test,y_test) "
      ],
      "execution_count": 18,
      "outputs": [
        {
          "output_type": "execute_result",
          "data": {
            "text/plain": [
              "0.8934735490085896"
            ]
          },
          "metadata": {},
          "execution_count": 18
        }
      ]
    },
    {
      "cell_type": "code",
      "metadata": {
        "id": "hrdReyioJL51"
      },
      "source": [
        "\n",
        "from sklearn.multioutput import MultiOutputClassifier\n",
        "model2=MultiOutputClassifier(XGBClassifier(base_score=0.5, booster='gbtree',\n",
        "                                            colsample_bylevel=1,\n",
        "                                            colsample_bynode=1,\n",
        "                                            colsample_bytree=1, gamma=1,\n",
        "                                            learning_rate=0.1, max_delta_step=0,\n",
        "                                            max_depth=3, min_child_weight=1,\n",
        "                                            missing=None, n_estimators=100,\n",
        "                                            n_jobs=1, nthread=None,\n",
        "                                            objective='binary:logistic',\n",
        "                                            random_state=0, reg_alpha=0,\n",
        "                                            reg_lambda=1, scale_pos_weight=1,\n",
        "                                            seed=None, silent=None, subsample=0.8,\n",
        "                                            verbosity=1))\n",
        "model2.fit(X_train,y_train)\n",
        "pred=model2.predict(X_test)\n",
        "accuracy_score(pred,y_test)"
      ],
      "execution_count": null,
      "outputs": []
    },
    {
      "cell_type": "code",
      "metadata": {
        "id": "QMhFyMnqJBE-"
      },
      "source": [
        "model=OneVsRestClassifier(XGBClassifier(base_score=0.9, booster='gbtree',\n",
        "                                            colsample_bylevel=1,\n",
        "                                            colsample_bynode=1,\n",
        "                                            colsample_bytree=1, gamma=1,\n",
        "                                            learning_rate=0.1, max_delta_step=0,\n",
        "                                            max_depth=7, min_child_weight=1,\n",
        "                                            missing=None, n_estimators=500,\n",
        "                                            n_jobs=1, nthread=None,\n",
        "                                            objective='binary:logistic',\n",
        "                                            random_state=0, reg_alpha=0,\n",
        "                                            reg_lambda=1, scale_pos_weight=1,\n",
        "                                            seed=None, silent=None, subsample=0.8,\n",
        "                                            verbosity=1))\n",
        "model.fit(X_train,y_train)"
      ],
      "execution_count": null,
      "outputs": []
    },
    {
      "cell_type": "code",
      "metadata": {
        "id": "Yi06s6DtJNjC"
      },
      "source": [
        "\n",
        "pred=model.predict(X_test)\n",
        "accuracy_score(pred,y_test)"
      ],
      "execution_count": null,
      "outputs": []
    },
    {
      "cell_type": "code",
      "metadata": {
        "id": "pGrpQB2uPobV"
      },
      "source": [
        "#output=vector.inverse_transform(pred)"
      ],
      "execution_count": null,
      "outputs": []
    },
    {
      "cell_type": "code",
      "metadata": {
        "id": "Ogfi2vjCozwE"
      },
      "source": [
        "model.fit(final_data,target)"
      ],
      "execution_count": null,
      "outputs": []
    },
    {
      "cell_type": "code",
      "metadata": {
        "id": "uoI5viOCs-FL"
      },
      "source": [
        "test=pd.read_csv(\"test.csv\")\n",
        "customerid=test.Customer_ID\n",
        "test.drop(\"Customer_ID\",inplace=True,axis=1)"
      ],
      "execution_count": 19,
      "outputs": []
    },
    {
      "cell_type": "code",
      "metadata": {
        "id": "6ZmKWhkuzpmU"
      },
      "source": [
        "test_vec=vector2.transform(test.Product_Holding_B1)\n",
        "test = test.join(pd.DataFrame(test_vec.toarray(),columns=upper(vector2.get_feature_names())))"
      ],
      "execution_count": 20,
      "outputs": []
    },
    {
      "cell_type": "code",
      "metadata": {
        "id": "qRdk6PoUz7Y_"
      },
      "source": [
        "test.head()"
      ],
      "execution_count": null,
      "outputs": []
    },
    {
      "cell_type": "code",
      "metadata": {
        "id": "8DZTMC0qzat5"
      },
      "source": [
        "test.drop(\"Product_Holding_B1\",inplace=True,axis=1)\n",
        "test=pd.get_dummies(test,drop_first=True)\n"
      ],
      "execution_count": 21,
      "outputs": []
    },
    {
      "cell_type": "code",
      "metadata": {
        "id": "L11WpCaOHrdL"
      },
      "source": [
        "output=rfc.predict_proba(test)"
      ],
      "execution_count": 32,
      "outputs": []
    },
    {
      "cell_type": "code",
      "metadata": {
        "id": "k19myZeFznC8"
      },
      "source": [
        "submission_file=pd.DataFrame()\n",
        "submission_file[\"Customer_ID\"]=customerid\n",
        "submission_file[\"Product_Holding_B2\"]=output"
      ],
      "execution_count": 23,
      "outputs": []
    },
    {
      "cell_type": "code",
      "metadata": {
        "id": "FV-1uP6d0I0z"
      },
      "source": [
        "def convert(x):\n",
        "  li=[]\n",
        "  for i in x:\n",
        "    li.append(str(i).upper())\n",
        "  return li"
      ],
      "execution_count": 24,
      "outputs": []
    },
    {
      "cell_type": "code",
      "metadata": {
        "id": "D2EHYPwf1LDG"
      },
      "source": [
        "output1=submission_file.Product_Holding_B2\n",
        "out=output1.apply(convert)\n",
        "submission_file[\"Product_Holding_B2\"]=out"
      ],
      "execution_count": 25,
      "outputs": []
    },
    {
      "cell_type": "code",
      "metadata": {
        "id": "mlZVfT9Wb46k"
      },
      "source": [
        "submission_file.set_index(\"Customer_ID\",inplace=True)"
      ],
      "execution_count": 26,
      "outputs": []
    },
    {
      "cell_type": "code",
      "metadata": {
        "id": "1qvjFt_RYeap"
      },
      "source": [
        "out=submission_file[\"Product_Holding_B2\"]"
      ],
      "execution_count": 27,
      "outputs": []
    },
    {
      "cell_type": "code",
      "metadata": {
        "id": "YMGiFDrZeFad"
      },
      "source": [
        "names=vector.get_feature_names()\n",
        "feature_names=upper(names)"
      ],
      "execution_count": 28,
      "outputs": []
    },
    {
      "cell_type": "code",
      "metadata": {
        "id": "rRvpc5O_gtqO"
      },
      "source": [
        "import numpy as np\n",
        "\n",
        "def top_three_products(x,feature_names):\n",
        "  li=[]\n",
        "  for i in x:\n",
        "    list_=[]\n",
        "    for j in range(3):\n",
        "      i=list(i)\n",
        "      value=np.max(i)\n",
        "      index_num=np.argmax(i)\n",
        "      list_.append(feature_names[int(index_num)])\n",
        "      i.remove(value)\n",
        "    li.append(list_)\n",
        "  return li    "
      ],
      "execution_count": 31,
      "outputs": []
    },
    {
      "cell_type": "code",
      "metadata": {
        "id": "HTBOVHkEgx5h"
      },
      "source": [
        "prob=output\n",
        "predictions=top_three_products(prob,feature_names)"
      ],
      "execution_count": 33,
      "outputs": []
    },
    {
      "cell_type": "code",
      "metadata": {
        "id": "nxsRmdSEi3_w"
      },
      "source": [
        "len(predictions)"
      ],
      "execution_count": null,
      "outputs": []
    },
    {
      "cell_type": "code",
      "metadata": {
        "id": "Nw_ZmnUii5zU"
      },
      "source": [
        "submission_file[\"Product_Holding_B2\"]=predictions\n"
      ],
      "execution_count": 34,
      "outputs": []
    },
    {
      "cell_type": "code",
      "metadata": {
        "id": "4gRx8aaHkmnU"
      },
      "source": [
        "submission_file.to_csv(\"/content/drive/MyDrive/Colab Notebooks/final_submission.csv\")"
      ],
      "execution_count": 35,
      "outputs": []
    },
    {
      "cell_type": "code",
      "metadata": {
        "colab": {
          "base_uri": "https://localhost:8080/",
          "height": 454
        },
        "id": "xcamb2GwlXG3",
        "outputId": "9980bbe2-92e4-4769-fe81-76826af47ea1"
      },
      "source": [
        "submission_file"
      ],
      "execution_count": 36,
      "outputs": [
        {
          "output_type": "execute_result",
          "data": {
            "text/html": [
              "<div>\n",
              "<style scoped>\n",
              "    .dataframe tbody tr th:only-of-type {\n",
              "        vertical-align: middle;\n",
              "    }\n",
              "\n",
              "    .dataframe tbody tr th {\n",
              "        vertical-align: top;\n",
              "    }\n",
              "\n",
              "    .dataframe thead th {\n",
              "        text-align: right;\n",
              "    }\n",
              "</style>\n",
              "<table border=\"1\" class=\"dataframe\">\n",
              "  <thead>\n",
              "    <tr style=\"text-align: right;\">\n",
              "      <th></th>\n",
              "      <th>Product_Holding_B2</th>\n",
              "    </tr>\n",
              "    <tr>\n",
              "      <th>Customer_ID</th>\n",
              "      <th></th>\n",
              "    </tr>\n",
              "  </thead>\n",
              "  <tbody>\n",
              "    <tr>\n",
              "      <th>CC372708</th>\n",
              "      <td>[P8, P10, P1]</td>\n",
              "    </tr>\n",
              "    <tr>\n",
              "      <th>CC216072</th>\n",
              "      <td>[P8, P1, P3]</td>\n",
              "    </tr>\n",
              "    <tr>\n",
              "      <th>CC387629</th>\n",
              "      <td>[P13, P15, P1]</td>\n",
              "    </tr>\n",
              "    <tr>\n",
              "      <th>CC389228</th>\n",
              "      <td>[P8, P8, P12]</td>\n",
              "    </tr>\n",
              "    <tr>\n",
              "      <th>CC394445</th>\n",
              "      <td>[P00, P6, P6]</td>\n",
              "    </tr>\n",
              "    <tr>\n",
              "      <th>...</th>\n",
              "      <td>...</td>\n",
              "    </tr>\n",
              "    <tr>\n",
              "      <th>CC303542</th>\n",
              "      <td>[P8, P4, P5]</td>\n",
              "    </tr>\n",
              "    <tr>\n",
              "      <th>CC266713</th>\n",
              "      <td>[P8, P12, P6]</td>\n",
              "    </tr>\n",
              "    <tr>\n",
              "      <th>CC393639</th>\n",
              "      <td>[P00, P8, P5]</td>\n",
              "    </tr>\n",
              "    <tr>\n",
              "      <th>CC285013</th>\n",
              "      <td>[P1, P5, P5]</td>\n",
              "    </tr>\n",
              "    <tr>\n",
              "      <th>CC274657</th>\n",
              "      <td>[P8, P3, P5]</td>\n",
              "    </tr>\n",
              "  </tbody>\n",
              "</table>\n",
              "<p>20327 rows × 1 columns</p>\n",
              "</div>"
            ],
            "text/plain": [
              "            Product_Holding_B2\n",
              "Customer_ID                   \n",
              "CC372708         [P8, P10, P1]\n",
              "CC216072          [P8, P1, P3]\n",
              "CC387629        [P13, P15, P1]\n",
              "CC389228         [P8, P8, P12]\n",
              "CC394445         [P00, P6, P6]\n",
              "...                        ...\n",
              "CC303542          [P8, P4, P5]\n",
              "CC266713         [P8, P12, P6]\n",
              "CC393639         [P00, P8, P5]\n",
              "CC285013          [P1, P5, P5]\n",
              "CC274657          [P8, P3, P5]\n",
              "\n",
              "[20327 rows x 1 columns]"
            ]
          },
          "metadata": {},
          "execution_count": 36
        }
      ]
    },
    {
      "cell_type": "code",
      "metadata": {
        "id": "Th2xslDeKodR"
      },
      "source": [
        ""
      ],
      "execution_count": null,
      "outputs": []
    }
  ]
}